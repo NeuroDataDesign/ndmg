{
 "cells": [
  {
   "cell_type": "markdown",
   "metadata": {},
   "source": [
    "# import packages"
   ]
  },
  {
   "cell_type": "code",
   "execution_count": 4,
   "metadata": {},
   "outputs": [],
   "source": [
    "import matplotlib.pyplot as plt\n",
    "import numpy as np\n",
    "import nibabel as nb\n",
    "from scipy import ndimage\n",
    "from matplotlib.colors import LinearSegmentedColormap\n",
    "from PIL import Image\n",
    "# from ndmg.stats.qa_fast import qa_fast_png"
   ]
  },
  {
   "cell_type": "code",
   "execution_count": 1,
   "metadata": {},
   "outputs": [],
   "source": [
    "def qa_fast_png(csf, gm, wm, outdir):\n",
    "    \"\"\"\n",
    "    FAST (FMRIB's Automated Segmentation Tool)\n",
    "    segments a 3D image of the brain into different tissue types (Grey Matter, White Matter, CSF, etc.)\n",
    "    Mark different colors of white matter, gray matter, cerebrospinal fluid in a '3 by 3' picture, i.e. QA for FAST\n",
    "    \n",
    "    parameters\n",
    "    ---------------\n",
    "    csf: str\n",
    "    the path of csf nifity image\n",
    "    gm: str\n",
    "    the path of gm nifity image\n",
    "    wm: str\n",
    "    the path of wm nifity image\n",
    "    outdir: str\n",
    "    the path to save QA graph\n",
    "    \n",
    "    \"\"\"\n",
    "    \n",
    "    # load data\n",
    "    gm_data = nb.load(gm).get_data()\n",
    "    csf_data = nb.load(csf).get_data()\n",
    "    wm_data = nb.load(wm).get_data()\n",
    "    \n",
    "    # set Color map\n",
    "    cmap1 = LinearSegmentedColormap.from_list('mycmap1', ['white', 'blue'])\n",
    "    cmap2 = LinearSegmentedColormap.from_list('mycmap2', ['white', 'magenta'])\n",
    "    cmap3 = LinearSegmentedColormap.from_list('mycmap2', ['white', 'green'])\n",
    "    \n",
    "    \n",
    "    overlay = plt.figure()\n",
    "    overlay.set_size_inches(12.5, 10.5, forward=True)\n",
    "    plt.title(f'Qa for FAST(segments a 3D image of the brain into different tissue types)\\n (scan volume:{gm_data.shape}) \\n', fontsize=22)\n",
    "    plt.xticks([])\n",
    "    plt.yticks([])\n",
    "    plt.axis('off')\n",
    "    \n",
    "    # Determine whether the input data types are consistent. If they are inconsistent, an error is reported.\n",
    "    if ((gm_data.shape != csf_data.shape) and (gm_data.shape != wm_data.shape) and (gm_data != wm_data.shape)):\n",
    "        raise ValueError(\"Brains are not the same shape.\")\n",
    "    \n",
    "    # Set the 3D matrix cutting position in three directions\n",
    "    shape = csf_data.shape\n",
    "    x = [int(shape[0] * 0.35), int(shape[0] * 0.51), int(shape[0] * 0.65)]\n",
    "    y = [int(shape[1] * 0.35), int(shape[1] * 0.51), int(shape[1] * 0.65)]\n",
    "    z = [int(shape[2] * 0.35), int(shape[2] * 0.51), int(shape[2] * 0.65)]\n",
    "    coords = (x, y, z)\n",
    "    \n",
    "    # Set labels for the y-axis\n",
    "    labs = [\n",
    "        \"Sagittal Slice\",\n",
    "        \"Coronal Slice\",\n",
    "        \"Axial Slice\",\n",
    "    ]\n",
    "    \n",
    "    \n",
    "    var = [\"X\", \"Y\", \"Z\"]\n",
    "    \n",
    "    # Generate 3 by 3 picture\n",
    "    idx = 0\n",
    "    for i, coord in enumerate(coords):\n",
    "        for pos in coord:\n",
    "            idx += 1\n",
    "            ax = overlay.add_subplot(3, 3, idx)\n",
    "            ax.set_title(var[i] + \" = \" + str(pos))\n",
    "            if i == 0:\n",
    "                csf_slice = ndimage.rotate(csf_data[pos, :, :], 90)\n",
    "                gm_slice = ndimage.rotate(gm_data[pos, :, :], 90)\n",
    "                wm_slice = ndimage.rotate(wm_data[pos, :, :], 90)\n",
    "            elif i == 1:\n",
    "                csf_slice = ndimage.rotate(csf_data[:, pos, :], 90)\n",
    "                gm_slice = ndimage.rotate(gm_data[:, pos, :], 90)\n",
    "                wm_slice = ndimage.rotate(wm_data[:, pos, :], 90)\n",
    "            else:\n",
    "                csf_slice = ndimage.rotate(csf_data[:, :, pos], 90)\n",
    "                gm_slice = ndimage.rotate(gm_data[:, :, pos], 90)\n",
    "                wm_slice = ndimage.rotate(wm_data[:, :, pos], 90)\n",
    "                \n",
    "            if idx % 3 == 1:\n",
    "                plt.ylabel(labs[i])\n",
    "            \n",
    "            #  padding pictures to make them the same size\n",
    "            csf_slice = (csf_slice*255).astype(np.uint8)\n",
    "            gm_slice = (gm_slice*255).astype(np.uint8)\n",
    "            wm_slice = (wm_slice*255).astype(np.uint8)\n",
    "            csf_slice = pad_im(csf_slice, max(shape), 0, False)\n",
    "            gm_slice = pad_im(gm_slice, max(shape), 0, False)\n",
    "            wm_slice = pad_im(wm_slice, max(shape), 0, False)\n",
    "            \n",
    "            # Hide axes\n",
    "            ax.set_xticks([])\n",
    "            ax.set_yticks([])\n",
    "            ax.spines['top'].set_visible(False)\n",
    "            ax.spines['right'].set_visible(False)\n",
    "            ax.spines['bottom'].set_visible(False)\n",
    "            ax.spines['left'].set_visible(False)\n",
    "            \n",
    "            # display image\n",
    "            ax.imshow(csf_slice, interpolation=\"none\", cmap=cmap1, alpha=1)\n",
    "            ax.imshow(gm_slice, interpolation=\"none\", cmap=cmap2, alpha=0.5)\n",
    "            ax.imshow(wm_slice, interpolation=\"none\", cmap=cmap3, alpha=0.3)\n",
    "           \n",
    "            # Legend of white matter(WM), gray matter(GM) and cerebrospinal fluid(csf)\n",
    "            if idx == 3:\n",
    "                plt.plot(0, 0, \"-\", c='green', label='wm')\n",
    "                plt.plot(0, 0, \"-\", c='pink', label='gm')\n",
    "                plt.plot(0, 0, \"-\", c='blue', label='csf')\n",
    "                plt.legend(loc='upper right',fontsize=15,bbox_to_anchor=(1.5,1.5))\n",
    "                \n",
    "    # save figure\n",
    "    overlay.savefig(f\"{outdir}\", format=\"png\")"
   ]
  },
  {
   "cell_type": "code",
   "execution_count": 6,
   "metadata": {},
   "outputs": [],
   "source": [
    "def pad_im(image,max_dim,pad_val,rgb):\n",
    "    \"\"\"\n",
    "    Pads an image to be same dimensions as given max_dim\n",
    "    \n",
    "    Parameters\n",
    "    -----------\n",
    "    image: np array\n",
    "        image object can be multiple dimensional or a slice.\n",
    "    max_dim: int\n",
    "        dimension to pad up to\n",
    "    pad_val: int\n",
    "        value to pad with. \n",
    "    rgb: boolean\n",
    "        flag to indicate if RGB and last dimension should not be padded\n",
    "    Returns\n",
    "    -----------\n",
    "    padded_image: np array\n",
    "        image with padding\n",
    "    \"\"\"\n",
    "    pad_width = []\n",
    "    for i in range(image.ndim):\n",
    "        pad_width.append(((max_dim-image.shape[i])//2,(max_dim-image.shape[i])//2))\n",
    "    if rgb:\n",
    "        pad_width[-1] = (0,0)\n",
    "\n",
    "    #convert to tuple\n",
    "    pad_width = tuple(pad_width)\n",
    "    padded_image = np.pad(image, pad_width=pad_width, mode='constant', constant_values=pad_val)\n",
    "    \n",
    "    return padded_image"
   ]
  },
  {
   "cell_type": "markdown",
   "metadata": {},
   "source": [
    "# set the input data path"
   ]
  },
  {
   "cell_type": "code",
   "execution_count": 7,
   "metadata": {},
   "outputs": [],
   "source": [
    "# change this path when you want to run in you own computer\n",
    "output_dir = 'd:/Downloads/neurodatadesign/output_data/flirt/sub-0025864/ses-1/'\n",
    "\n",
    "# the path setting\n",
    "csf_input = f\"{output_dir}anat/preproc/t1w_seg_pve_0.nii.gz\"\n",
    "gm_input = f\"{output_dir}anat/preproc/t1w_seg_pve_1.nii.gz\"\n",
    "wm_input = f\"{output_dir}anat/preproc/t1w_seg_pve_2.nii.gz\"\n",
    "save_dir = f\"{output_dir}qa/reg/qa_fast.png\""
   ]
  },
  {
   "cell_type": "markdown",
   "metadata": {},
   "source": [
    "# Call function to generate quality analysis picture"
   ]
  },
  {
   "cell_type": "code",
   "execution_count": 5,
   "metadata": {},
   "outputs": [
    {
     "ename": "NameError",
     "evalue": "name 'pad_im' is not defined",
     "output_type": "error",
     "traceback": [
      "\u001b[1;31m---------------------------------------------------------------------------\u001b[0m",
      "\u001b[1;31mNameError\u001b[0m                                 Traceback (most recent call last)",
      "\u001b[1;32m<ipython-input-5-c6d849c0dca2>\u001b[0m in \u001b[0;36m<module>\u001b[1;34m\u001b[0m\n\u001b[0;32m      1\u001b[0m \u001b[1;31m# Generates quality analysis pictures of white matter, gray matter and cerebrospinal fluid\u001b[0m\u001b[1;33m\u001b[0m\u001b[1;33m\u001b[0m\u001b[1;33m\u001b[0m\u001b[0m\n\u001b[1;32m----> 2\u001b[1;33m \u001b[0mqa_fast_png\u001b[0m\u001b[1;33m(\u001b[0m\u001b[0mcsf_input\u001b[0m\u001b[1;33m,\u001b[0m \u001b[0mgm_input\u001b[0m\u001b[1;33m,\u001b[0m \u001b[0mwm_input\u001b[0m\u001b[1;33m,\u001b[0m \u001b[0msave_dir\u001b[0m\u001b[1;33m)\u001b[0m\u001b[1;33m\u001b[0m\u001b[1;33m\u001b[0m\u001b[0m\n\u001b[0m",
      "\u001b[1;32m<ipython-input-1-577b918b6a65>\u001b[0m in \u001b[0;36mqa_fast_png\u001b[1;34m(csf, gm, wm, outdir)\u001b[0m\n\u001b[0;32m     84\u001b[0m             \u001b[0mgm_slice\u001b[0m \u001b[1;33m=\u001b[0m \u001b[1;33m(\u001b[0m\u001b[0mgm_slice\u001b[0m\u001b[1;33m*\u001b[0m\u001b[1;36m255\u001b[0m\u001b[1;33m)\u001b[0m\u001b[1;33m.\u001b[0m\u001b[0mastype\u001b[0m\u001b[1;33m(\u001b[0m\u001b[0mnp\u001b[0m\u001b[1;33m.\u001b[0m\u001b[0muint8\u001b[0m\u001b[1;33m)\u001b[0m\u001b[1;33m\u001b[0m\u001b[1;33m\u001b[0m\u001b[0m\n\u001b[0;32m     85\u001b[0m             \u001b[0mwm_slice\u001b[0m \u001b[1;33m=\u001b[0m \u001b[1;33m(\u001b[0m\u001b[0mwm_slice\u001b[0m\u001b[1;33m*\u001b[0m\u001b[1;36m255\u001b[0m\u001b[1;33m)\u001b[0m\u001b[1;33m.\u001b[0m\u001b[0mastype\u001b[0m\u001b[1;33m(\u001b[0m\u001b[0mnp\u001b[0m\u001b[1;33m.\u001b[0m\u001b[0muint8\u001b[0m\u001b[1;33m)\u001b[0m\u001b[1;33m\u001b[0m\u001b[1;33m\u001b[0m\u001b[0m\n\u001b[1;32m---> 86\u001b[1;33m             \u001b[0mcsf_slice\u001b[0m \u001b[1;33m=\u001b[0m \u001b[0mpad_im\u001b[0m\u001b[1;33m(\u001b[0m\u001b[0mcsf_slice\u001b[0m\u001b[1;33m,\u001b[0m \u001b[0mmax\u001b[0m\u001b[1;33m(\u001b[0m\u001b[0mshape\u001b[0m\u001b[1;33m)\u001b[0m\u001b[1;33m,\u001b[0m \u001b[1;36m0\u001b[0m\u001b[1;33m,\u001b[0m \u001b[1;32mFalse\u001b[0m\u001b[1;33m)\u001b[0m\u001b[1;33m\u001b[0m\u001b[1;33m\u001b[0m\u001b[0m\n\u001b[0m\u001b[0;32m     87\u001b[0m             \u001b[0mgm_slice\u001b[0m \u001b[1;33m=\u001b[0m \u001b[0mpad_im\u001b[0m\u001b[1;33m(\u001b[0m\u001b[0mgm_slice\u001b[0m\u001b[1;33m,\u001b[0m \u001b[0mmax\u001b[0m\u001b[1;33m(\u001b[0m\u001b[0mshape\u001b[0m\u001b[1;33m)\u001b[0m\u001b[1;33m,\u001b[0m \u001b[1;36m0\u001b[0m\u001b[1;33m,\u001b[0m \u001b[1;32mFalse\u001b[0m\u001b[1;33m)\u001b[0m\u001b[1;33m\u001b[0m\u001b[1;33m\u001b[0m\u001b[0m\n\u001b[0;32m     88\u001b[0m             \u001b[0mwm_slice\u001b[0m \u001b[1;33m=\u001b[0m \u001b[0mpad_im\u001b[0m\u001b[1;33m(\u001b[0m\u001b[0mwm_slice\u001b[0m\u001b[1;33m,\u001b[0m \u001b[0mmax\u001b[0m\u001b[1;33m(\u001b[0m\u001b[0mshape\u001b[0m\u001b[1;33m)\u001b[0m\u001b[1;33m,\u001b[0m \u001b[1;36m0\u001b[0m\u001b[1;33m,\u001b[0m \u001b[1;32mFalse\u001b[0m\u001b[1;33m)\u001b[0m\u001b[1;33m\u001b[0m\u001b[1;33m\u001b[0m\u001b[0m\n",
      "\u001b[1;31mNameError\u001b[0m: name 'pad_im' is not defined"
     ]
    },
    {
     "data": {
      "image/png": "[encoded data removed]",
      "text/plain": [
       "<Figure size 900x756 with 2 Axes>"
      ]
     },
     "metadata": {
      "needs_background": "light"
     },
     "output_type": "display_data"
    }
   ],
   "source": [
    "# Generates quality analysis pictures of white matter, gray matter and cerebrospinal fluid\n",
    "qa_fast_png(csf_input, gm_input, wm_input, save_dir)"
   ]
  }
 ],
 "metadata": {
  "kernelspec": {
   "display_name": "Python 3",
   "language": "python",
   "name": "python3"
  },
  "language_info": {
   "codemirror_mode": {
    "name": "ipython",
    "version": 3
   },
   "file_extension": ".py",
   "mimetype": "text/x-python",
   "name": "python",
   "nbconvert_exporter": "python",
   "pygments_lexer": "ipython3",
   "version": "3.7.4"
  },
  "toc": {
   "base_numbering": 1,
   "nav_menu": {},
   "number_sections": true,
   "sideBar": true,
   "skip_h1_title": false,
   "title_cell": "Table of Contents",
   "title_sidebar": "Contents",
   "toc_cell": false,
   "toc_position": {},
   "toc_section_display": true,
   "toc_window_display": false
  }
 },
 "nbformat": 4,
 "nbformat_minor": 2
}
