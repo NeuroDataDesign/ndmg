{
 "cells": [
  {
   "cell_type": "markdown",
   "metadata": {},
   "source": [
    "# Notebook to Test Loading Results from S3 for Paper Analysis and Plotting"
   ]
  },
  {
   "cell_type": "markdown",
   "metadata": {},
   "source": [
    "## Data Format in S3 Buckets\n",
    "\n",
    "- Bucket: ndmg-data\n",
    "- Files: \n",
    "    - Graph (.png)\n",
    "    - Adjacency Matrix (.csv)\n",
    "    - ? Streamlines ? (.trk)\n",
    "    \n",
    "    "
   ]
  },
  {
   "cell_type": "markdown",
   "metadata": {},
   "source": [
    "## Download Data\n",
    "\n",
    "- Use AWS CLI config for keys\n",
    "- Adapted from M2G boto3 code s3_get_data\n",
    "\n",
    "goal: extract relevant files for paper analysis"
   ]
  },
  {
   "cell_type": "code",
   "execution_count": null,
   "metadata": {},
   "outputs": [],
   "source": [
    "def s3_get__relevant_data(bucket, remote, local, info=\"\", file_types = ('.csv','.png') ,force=False):\n",
    "    \"\"\"Given and s3 directory, copies files/subdirectories in that directory to local\n",
    "    Parameters\n",
    "    ----------\n",
    "    bucket : str\n",
    "        s3 bucket you are accessing data from\n",
    "    remote : str\n",
    "        The path to the data on your S3 bucket. The data will be\n",
    "        downloaded to the provided bids_dir on your machine.\n",
    "    local : list\n",
    "        Local input directory where you want the files copied to and subject/session info [input, sub-#/ses-#]\n",
    "    info : str, optional\n",
    "        Relevant subject and session information in the form of sub-#/ses-#\n",
    "    file_types : tuple of str's, optional\n",
    "        extensions of relevant file types\n",
    "    force : bool, optional\n",
    "        Whether to overwrite the local directory containing the s3 files if it already exists, by default False\n",
    "    \"\"\"\n",
    "    if info == \"sub-\":\n",
    "        print(\"Subject not specified, comparing input folder to remote directory...\")\n",
    "    else:\n",
    "        if os.path.exists(os.path.join(local, info)) and not force:\n",
    "            if os.listdir(os.path.join(local, info)):\n",
    "                print(\n",
    "                    f\"Local directory: {os.path.join(local,info)} already exists. Not pulling s3 data. Delete contents to re-download data.\"\n",
    "                )\n",
    "                return  # TODO: make sure this doesn't append None a bunch of times to a list in a loop on this function\n",
    "    # get client with credentials if they exist\n",
    "    client = s3_client(service=\"s3\")\n",
    "    # check that bucket exists\n",
    "    bkts = [bk[\"Name\"] for bk in client.list_buckets()[\"Buckets\"]]\n",
    "    if bucket not in bkts:\n",
    "        raise ValueError(\n",
    "            \"Error: could not locate bucket. Available buckets: \" + \", \".join(bkts)\n",
    "        )\n",
    "    info = info.rstrip(\"/\") + \"/\"\n",
    "    bpath = get_matching_s3_objects(bucket, f\"{remote}/{info}\")\n",
    "    \n",
    "    # go through all folders inside of remote directory and download relevant files\n",
    "    for obj in bpath:\n",
    "        bdir, data = os.path.split(obj)\n",
    "        localpath = os.path.join(local, bdir.replace(f\"{remote}/\", \"\"))\n",
    "        \n",
    "        #check if the file is correct type \n",
    "        if obj.endswith(file_types):\n",
    "            # Make directory for data if it doesn't exist\n",
    "            if not os.path.exists(localpath):\n",
    "                os.makedirs(localpath)\n",
    "            if not os.path.exists(f\"{localpath}/{data}\"):\n",
    "                print(f\"Downloading {bdir}/{data} from {bucket} s3 bucket...\")\n",
    "                # Download file\n",
    "                client.download_file(bucket, f\"{bdir}/{data}\", f\"{localpath}/{data}\")\n",
    "                if os.path.exists(f\"{localpath}/{data}\"):\n",
    "                    print(\"Success!\")\n",
    "                else:\n",
    "                    print(\"Error: File not downloaded\")\n",
    "            else:\n",
    "                print(f\"File {data} already exists at {localpath}/{data}\")"
   ]
  },
  {
   "cell_type": "markdown",
   "metadata": {},
   "source": [
    "## Load and Analyze Data\n",
    "\n",
    "- Extract metadata about patient and subjects from the folder (general demographic distributions (age, gender\n",
    "- Discriminability\n",
    "\n",
    "\n",
    "- ? Mean level analysis on all the connectomes data like in bioarvix?"
   ]
  },
  {
   "cell_type": "code",
   "execution_count": null,
   "metadata": {},
   "outputs": [],
   "source": []
  }
 ],
 "metadata": {
  "kernelspec": {
   "display_name": "Python 3",
   "language": "python",
   "name": "python3"
  },
  "language_info": {
   "codemirror_mode": {
    "name": "ipython",
    "version": 3
   },
   "file_extension": ".py",
   "mimetype": "text/x-python",
   "name": "python",
   "nbconvert_exporter": "python",
   "pygments_lexer": "ipython3",
   "version": "3.6.8"
  }
 },
 "nbformat": 4,
 "nbformat_minor": 2
}
