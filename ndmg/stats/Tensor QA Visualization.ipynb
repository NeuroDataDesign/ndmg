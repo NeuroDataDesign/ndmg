{
 "cells": [
  {
   "cell_type": "markdown",
   "metadata": {},
   "source": [
    "# Notebook for QA of Tensor Estimation and Tractography\n"
   ]
  },
  {
   "cell_type": "code",
   "execution_count": 57,
   "metadata": {},
   "outputs": [],
   "source": [
    "import os\n",
    "\n",
    "import nibabel as nib\n",
    "import numpy as np\n",
    "\n",
    "#dipy viewing \n",
    "from dipy.io.stateful_tractogram import Space, StatefulTractogram\n",
    "from dipy.io.streamline import load_tractogram, save_tractogram\n",
    "from dipy.io.utils import (create_nifti_header, get_reference_info,\n",
    "                           is_header_compatible)\n",
    "from dipy.tracking.streamline import select_random_set_of_streamlines\n",
    "from dipy.tracking.utils import density_map\n",
    "\n",
    "from dipy.data.fetcher import (fetch_file_formats,\n",
    "                               get_file_formats)\n",
    "\n",
    "\n",
    "# dipy imports\n",
    "from dipy.tracking.streamline import Streamlines\n",
    "from dipy.tracking import utils\n",
    "from dipy.tracking.local_tracking import LocalTracking\n",
    "from dipy.tracking.local_tracking import ParticleFilteringTracking\n",
    "from dipy.tracking.stopping_criterion import BinaryStoppingCriterion\n",
    "from dipy.tracking.stopping_criterion import ActStoppingCriterion\n",
    "from dipy.tracking.stopping_criterion import CmcStoppingCriterion\n",
    "\n",
    "from dipy.reconst.dti import fractional_anisotropy, TensorModel, quantize_evecs\n",
    "from dipy.reconst.shm import CsaOdfModel\n",
    "from dipy.reconst.csdeconv import ConstrainedSphericalDeconvModel, recursive_response\n",
    "from dipy.reconst.peak_direction_getter import EuDXDirectionGetter\n",
    "\n",
    "from dipy.data import get_sphere\n",
    "from dipy.direction import peaks_from_model, ProbabilisticDirectionGetter\n",
    "from dipy.segment.mask import median_otsu\n",
    "from dipy.core.gradients import gradient_table\n",
    "\n",
    "from dipy.data import default_sphere\n",
    "\n",
    "from dipy.viz import window, actor, has_fury\n",
    "\n",
    "import matplotlib.pyplot as plt\n",
    "\n",
    "# path = '/Users/wilsontang/Desktop/ndmg_outputs/sub_0025841_ses_1/sub-0025841/ses-1/dwi/fiber/streamlines.trk'"
   ]
  },
  {
   "cell_type": "markdown",
   "metadata": {},
   "source": [
    "## Load Relevent Data to Reload Create Model"
   ]
  },
  {
   "cell_type": "code",
   "execution_count": 36,
   "metadata": {},
   "outputs": [],
   "source": [
    "\n",
    "bvals = np.loadtxt('/Users/wilsontang/Desktop/Tensor_Estimation_Data/bval.bval')\n",
    "bvecs = np.loadtxt('/Users/wilsontang/Desktop/Tensor_Estimation_Data/bvec.bvec')\n",
    "original_im = nib.load('/Users/wilsontang/Desktop/Tensor_Estimation_Data/eddy_corrected_data_reor_RAS_nores.nii.gz')\n",
    "\n",
    "# data_loaded_1 = nib.load('/Users/wilsontang/Desktop/Tensor_Estimation_Data/desikan_space-MNI152NLin6_res-2x2x2_reor_RAS_nores_aligned_atlas.nii.gz').get_fdata()\n",
    "# data_loaded_2 = nib.load('/Users/wilsontang/Desktop/Tensor_Estimation_Data/t1w_in_dwi.nii.gz').get_fdata()\n",
    "# data_loaded_3 = nib.load('/Users/wilsontang/Desktop/Tensor_Estimation_Data/t1w_aligned_mni.nii.gz').get_fdata()\n",
    "# atlas = nib.load('/Users/wilsontang/Desktop/Tensor_Estimation_Data/desikan_space-MNI152NLin6_res-2x2x2.nii.gz').get_fdata()\n",
    "data_original = original_im.get_fdata()\n",
    "\n",
    "wm_in_dwi_data = nib.load('/Users/wilsontang/Desktop/Tensor_Estimation_Data/t1w_wm_in_dwi.nii.gz').get_data().astype(\"bool\")\n",
    "\n",
    "sphere_mod = get_sphere('repulsion724')"
   ]
  },
  {
   "cell_type": "code",
   "execution_count": 37,
   "metadata": {},
   "outputs": [
    {
     "name": "stdout",
     "output_type": "stream",
     "text": [
      "(128, 124, 60, 93)\n",
      "(91, 109, 91)\n",
      "(128, 124, 60)\n"
     ]
    }
   ],
   "source": [
    "print(data_original.shape)\n",
    "\n",
    "print(atlas.shape)\n",
    "\n",
    "print(wm_in_dwi_data.shape)"
   ]
  },
  {
   "cell_type": "markdown",
   "metadata": {},
   "source": [
    "## CSA ODF Model Visualizations"
   ]
  },
  {
   "cell_type": "code",
   "execution_count": 38,
   "metadata": {},
   "outputs": [],
   "source": [
    "#build gradient table\n",
    "gtab = gradient_table(bvals, bvecs)\n",
    "\n",
    "#running model\n",
    "csa_model = CsaOdfModel(gtab, sh_order=6)\n",
    "\n",
    "#\n",
    "sphere_mod = get_sphere('repulsion724')\n",
    "\n",
    "#extracting peaks\n",
    "csa_peaks = peaks_from_model(model=csa_model,\n",
    "                             data= data_original,\n",
    "                             sphere=sphere_mod,\n",
    "                             relative_peak_threshold=.5,\n",
    "                             min_separation_angle=25,\n",
    "                             npeaks = 5,\n",
    "                             normalize_peaks=True,\n",
    "                             mask = wm_in_dwi_data\n",
    "                            )\n",
    "\n"
   ]
  },
  {
   "cell_type": "code",
   "execution_count": 39,
   "metadata": {},
   "outputs": [],
   "source": [
    "#build odf \n",
    "csa_fit = csa_model.fit(data_original)\n",
    "csa_odf = csa_fit.odf(sphere_mod)"
   ]
  },
  {
   "cell_type": "code",
   "execution_count": 19,
   "metadata": {},
   "outputs": [
    {
     "name": "stdout",
     "output_type": "stream",
     "text": [
      "(128, 1, 60, 5, 3)\n",
      "(128, 1, 60, 5)\n"
     ]
    }
   ],
   "source": [
    "## attempt to slice the peaks and values in the relevent directions to allow for different slice visualizations. \n",
    "\n",
    "# ##doesnt work\n",
    "\n",
    "# y_slice_dirs = csa_peaks.peak_dirs[:,60:61,:,:,:]\n",
    "# y_slice_vals = csa_peaks.peak_values[:,60:61,:,:]\n",
    "\n",
    "# print(y_slice_dirs.shape)\n",
    "# print(y_slice_vals.shape)"
   ]
  },
  {
   "cell_type": "code",
   "execution_count": 50,
   "metadata": {},
   "outputs": [
    {
     "name": "stdout",
     "output_type": "stream",
     "text": [
      "Saving illustration as csa_odfs.png\n"
     ]
    }
   ],
   "source": [
    "#clear window\n",
    "window.clear(ren)\n",
    "\n",
    "csa_fodf_spheres = actor.odf_slicer(csa_odf, sphere= sphere_mod, scale = 0.3, norm = True, colormap = 'plasma')\n",
    "\n",
    "ren.add(csa_fodf_spheres)\n",
    "\n",
    "print('Saving illustration as csa_odfs.png')\n",
    "\n",
    "window.record(ren,out_path = 'csa_odfs.png', size = (900,900))"
   ]
  },
  {
   "cell_type": "code",
   "execution_count": 58,
   "metadata": {},
   "outputs": [
    {
     "data": {
      "text/plain": [
       "<matplotlib.image.AxesImage at 0x1a8c87a2b0>"
      ]
     },
     "execution_count": 58,
     "metadata": {},
     "output_type": "execute_result"
    },
    {
     "data": {
      "image/png": "[encoded data removed]",
      "text/plain": [
       "<Figure size 432x288 with 1 Axes>"
      ]
     },
     "metadata": {
      "needs_background": "light"
     },
     "output_type": "display_data"
    }
   ],
   "source": [
    "# open method used to open different extension image file \n",
    "im = plt.imread('csa_odfs.png')\n",
    "  \n",
    "# This method will show image in any image viewer  \n",
    "plt.imshow(im) "
   ]
  },
  {
   "cell_type": "code",
   "execution_count": 51,
   "metadata": {},
   "outputs": [],
   "source": [
    "window.clear(ren)\n",
    "base_actor = actor.peak_slicer(csa_peaks.peak_dirs,\n",
    "                csa_peaks.peak_values,\n",
    "                colors=None)\n",
    "\n",
    "if has_fury:\n",
    "    ren = window.Renderer()\n",
    "    ren.add(base_actor)\n",
    "\n",
    "    window.record(ren, out_path='csa_direction_field.png', size=(1500, 1500))\n",
    "\n",
    "\n",
    "#     if interactive:\n",
    "#         window.show(ren, size=(800, 800))\n",
    "\n"
   ]
  },
  {
   "cell_type": "code",
   "execution_count": 60,
   "metadata": {},
   "outputs": [
    {
     "data": {
      "text/plain": [
       "<matplotlib.image.AxesImage at 0x1a221742b0>"
      ]
     },
     "execution_count": 60,
     "metadata": {},
     "output_type": "execute_result"
    },
    {
     "data": {
      "image/png": "[encoded data removed]",
      "text/plain": [
       "<Figure size 432x288 with 1 Axes>"
      ]
     },
     "metadata": {
      "needs_background": "light"
     },
     "output_type": "display_data"
    }
   ],
   "source": [
    "# open method used to open different extension image file \n",
    "im = plt.imread('csa_direction_field.png')\n",
    "  \n",
    "# This method will show image in any image viewer  \n",
    "plt.imshow(im) "
   ]
  },
  {
   "cell_type": "code",
   "execution_count": 52,
   "metadata": {},
   "outputs": [
    {
     "name": "stdout",
     "output_type": "stream",
     "text": [
      "Saving illustration as csa_both.png\n"
     ]
    }
   ],
   "source": [
    "csa_fodf_spheres.GetProperty().SetOpacity(0.4)\n",
    "\n",
    "ren.add(csa_fodf_spheres)\n",
    "\n",
    "print('Saving illustration as csa_both.png')\n",
    "\n",
    "window.record(ren,out_path = 'csa_both.png', size = (1200,1200))"
   ]
  },
  {
   "cell_type": "code",
   "execution_count": 61,
   "metadata": {},
   "outputs": [
    {
     "data": {
      "text/plain": [
       "<matplotlib.image.AxesImage at 0x1a23c4deb8>"
      ]
     },
     "execution_count": 61,
     "metadata": {},
     "output_type": "execute_result"
    },
    {
     "data": {
      "image/png": "[encoded data removed]",
      "text/plain": [
       "<Figure size 432x288 with 1 Axes>"
      ]
     },
     "metadata": {
      "needs_background": "light"
     },
     "output_type": "display_data"
    }
   ],
   "source": [
    "# open method used to open different extension image file \n",
    "im = plt.imread('csa_both.png')\n",
    "  \n",
    "# This method will show image in any image viewer  \n",
    "plt.imshow(im)"
   ]
  },
  {
   "cell_type": "markdown",
   "metadata": {},
   "source": [
    "## CSD Model Visualizations"
   ]
  },
  {
   "cell_type": "code",
   "execution_count": 25,
   "metadata": {},
   "outputs": [
    {
     "name": "stderr",
     "output_type": "stream",
     "text": [
      "/Users/wilsontang/anaconda3/lib/python3.6/site-packages/dipy/reconst/csdeconv.py:586: UserWarning: maximum number of iterations exceeded - failed to converge\n",
      "  warnings.warn(msg)\n"
     ]
    }
   ],
   "source": [
    "#build response\n",
    "response = recursive_response(\n",
    "                gtab,\n",
    "                data_original,\n",
    "                mask =wm_in_dwi_data,\n",
    "                sh_order=6,\n",
    "                peak_thr=0.01,\n",
    "                init_fa=0.08,\n",
    "                init_trace=0.0021,\n",
    "                iter=8,\n",
    "                convergence=0.001,\n",
    "                parallel=False,\n",
    "            )\n",
    "\n",
    "csd_model = ConstrainedSphericalDeconvModel(gtab,response,sh_order=6)"
   ]
  },
  {
   "cell_type": "code",
   "execution_count": 27,
   "metadata": {},
   "outputs": [
    {
     "ename": "NameError",
     "evalue": "name 'sphere_mod' is not defined",
     "output_type": "error",
     "traceback": [
      "\u001b[0;31m---------------------------------------------------------------------------\u001b[0m",
      "\u001b[0;31mNameError\u001b[0m                                 Traceback (most recent call last)",
      "\u001b[0;32m<ipython-input-27-465aed9aee24>\u001b[0m in \u001b[0;36m<module>\u001b[0;34m\u001b[0m\n\u001b[1;32m      1\u001b[0m \u001b[0mcsd_fit\u001b[0m \u001b[0;34m=\u001b[0m \u001b[0mcsd_model\u001b[0m\u001b[0;34m.\u001b[0m\u001b[0mfit\u001b[0m\u001b[0;34m(\u001b[0m\u001b[0mdata_original\u001b[0m\u001b[0;34m)\u001b[0m\u001b[0;34m\u001b[0m\u001b[0;34m\u001b[0m\u001b[0m\n\u001b[1;32m      2\u001b[0m \u001b[0;34m\u001b[0m\u001b[0m\n\u001b[0;32m----> 3\u001b[0;31m \u001b[0mcsd_odf\u001b[0m \u001b[0;34m=\u001b[0m \u001b[0mcsd_fit\u001b[0m\u001b[0;34m.\u001b[0m\u001b[0modf\u001b[0m\u001b[0;34m(\u001b[0m\u001b[0msphere_mod\u001b[0m\u001b[0;34m)\u001b[0m\u001b[0;34m\u001b[0m\u001b[0;34m\u001b[0m\u001b[0m\n\u001b[0m\u001b[1;32m      4\u001b[0m \u001b[0;34m\u001b[0m\u001b[0m\n",
      "\u001b[0;31mNameError\u001b[0m: name 'sphere_mod' is not defined"
     ]
    }
   ],
   "source": [
    "csd_fit = csd_model.fit(data_original)\n",
    "\n",
    "\n",
    "\n"
   ]
  },
  {
   "cell_type": "code",
   "execution_count": 29,
   "metadata": {},
   "outputs": [],
   "source": [
    "csd_odf = csd_fit.odf(sphere_mod)"
   ]
  },
  {
   "cell_type": "code",
   "execution_count": 31,
   "metadata": {},
   "outputs": [
    {
     "name": "stdout",
     "output_type": "stream",
     "text": [
      "Saving illustration as csd_odfs.png\n"
     ]
    }
   ],
   "source": [
    "#show fiber odfs\n",
    "\n",
    "#clear window\n",
    "window.clear(ren)\n",
    "\n",
    "fodf_spheres = actor.odf_slicer(csd_odf, sphere= sphere_mod, scale = 0.9, norm = False, colormap = 'plasma')\n",
    "\n",
    "ren.add(fodf_spheres)\n",
    "\n",
    "print('Saving illustration as csd_odfs.png')\n",
    "\n",
    "window.record(ren,out_path = 'csd_odfs.png', size = (900,900))\n"
   ]
  },
  {
   "cell_type": "code",
   "execution_count": 62,
   "metadata": {},
   "outputs": [
    {
     "data": {
      "text/plain": [
       "<matplotlib.image.AxesImage at 0x1125cad30>"
      ]
     },
     "execution_count": 62,
     "metadata": {},
     "output_type": "execute_result"
    },
    {
     "data": {
      "image/png": "[encoded data removed]",
      "text/plain": [
       "<Figure size 432x288 with 1 Axes>"
      ]
     },
     "metadata": {
      "needs_background": "light"
     },
     "output_type": "display_data"
    }
   ],
   "source": [
    "# open method used to open different extension image file \n",
    "im = plt.imread('csd_odfs.png')\n",
    "  \n",
    "# This method will show image in any image viewer  \n",
    "plt.imshow(im)"
   ]
  },
  {
   "cell_type": "code",
   "execution_count": 32,
   "metadata": {},
   "outputs": [
    {
     "name": "stdout",
     "output_type": "stream",
     "text": [
      "Saving illustration as csd_peaks.png\n"
     ]
    }
   ],
   "source": [
    "csd_peaks = peaks_from_model(model = csd_model,\n",
    "                            data = data_original,\n",
    "                            sphere = sphere_mod,\n",
    "                            relative_peak_threshold = 0.5,\n",
    "                            min_separation_angle = 25,\n",
    "                            npeaks = 5,\n",
    "                            normalize_peaks=True,\n",
    "                            mask = wm_in_dwi_data)\n"
   ]
  },
  {
   "cell_type": "code",
   "execution_count": 34,
   "metadata": {},
   "outputs": [
    {
     "name": "stdout",
     "output_type": "stream",
     "text": [
      "Saving illustration as csd_peaks.png\n"
     ]
    }
   ],
   "source": [
    "window.clear(ren)\n",
    "\n",
    "fodf_peaks= actor.peak_slicer(csd_peaks.peak_dirs,csd_peaks.peak_values)\n",
    "ren.add(fodf_peaks)\n",
    "\n",
    "print('Saving illustration as csd_peaks.png')\n",
    "\n",
    "window.record(ren,out_path = 'csd_peaks.png', size = (1200,1200))"
   ]
  },
  {
   "cell_type": "code",
   "execution_count": 63,
   "metadata": {},
   "outputs": [
    {
     "data": {
      "text/plain": [
       "<matplotlib.image.AxesImage at 0x1a2202c4a8>"
      ]
     },
     "execution_count": 63,
     "metadata": {},
     "output_type": "execute_result"
    },
    {
     "data": {
      "image/png": "[encoded data removed]",
      "text/plain": [
       "<Figure size 432x288 with 1 Axes>"
      ]
     },
     "metadata": {
      "needs_background": "light"
     },
     "output_type": "display_data"
    }
   ],
   "source": [
    "# open method used to open different extension image file \n",
    "im = plt.imread('csd_peaks.png')\n",
    "  \n",
    "# This method will show image in any image viewer  \n",
    "plt.imshow(im)"
   ]
  },
  {
   "cell_type": "code",
   "execution_count": 35,
   "metadata": {},
   "outputs": [
    {
     "name": "stdout",
     "output_type": "stream",
     "text": [
      "Saving illustration as csd_both.png\n"
     ]
    }
   ],
   "source": [
    "fodf_spheres.GetProperty().SetOpacity(0.4)\n",
    "\n",
    "ren.add(fodf_spheres)\n",
    "\n",
    "print('Saving illustration as csd_both.png')\n",
    "\n",
    "\n",
    "window.record(ren,out_path = 'csd_both.png', size = (1200,1200))"
   ]
  },
  {
   "cell_type": "code",
   "execution_count": 64,
   "metadata": {},
   "outputs": [
    {
     "data": {
      "text/plain": [
       "<matplotlib.image.AxesImage at 0x1a23dadbe0>"
      ]
     },
     "execution_count": 64,
     "metadata": {},
     "output_type": "execute_result"
    },
    {
     "data": {
      "image/png": "[encoded data removed]",
      "text/plain": [
       "<Figure size 432x288 with 1 Axes>"
      ]
     },
     "metadata": {
      "needs_background": "light"
     },
     "output_type": "display_data"
    }
   ],
   "source": [
    "# open method used to open different extension image file \n",
    "im = plt.imread('csd_both.png')\n",
    "  \n",
    "# This method will show image in any image viewer  \n",
    "plt.imshow(im)"
   ]
  },
  {
   "cell_type": "code",
   "execution_count": null,
   "metadata": {},
   "outputs": [],
   "source": []
  }
 ],
 "metadata": {
  "kernelspec": {
   "display_name": "Python 3",
   "language": "python",
   "name": "python3"
  },
  "language_info": {
   "codemirror_mode": {
    "name": "ipython",
    "version": 3
   },
   "file_extension": ".py",
   "mimetype": "text/x-python",
   "name": "python",
   "nbconvert_exporter": "python",
   "pygments_lexer": "ipython3",
   "version": "3.6.8"
  }
 },
 "nbformat": 4,
 "nbformat_minor": 2
}
