{
 "cells": [
  {
   "cell_type": "markdown",
   "metadata": {},
   "source": [
    "# Notebook for QA of Tensor Estimation and Tractography\n"
   ]
  },
  {
   "cell_type": "code",
   "execution_count": 5,
   "metadata": {},
   "outputs": [],
   "source": [
    "import os\n",
    "\n",
    "import nibabel as nib\n",
    "import numpy as np\n",
    "\n",
    "#dipy viewing \n",
    "from dipy.io.stateful_tractogram import Space, StatefulTractogram\n",
    "from dipy.io.streamline import load_tractogram, save_tractogram\n",
    "from dipy.io.utils import (create_nifti_header, get_reference_info,\n",
    "                           is_header_compatible)\n",
    "from dipy.tracking.streamline import select_random_set_of_streamlines\n",
    "from dipy.tracking.utils import density_map\n",
    "\n",
    "from dipy.data.fetcher import (fetch_file_formats,\n",
    "                               get_file_formats)\n",
    "\n",
    "\n",
    "# dipy imports\n",
    "from dipy.tracking.streamline import Streamlines\n",
    "from dipy.tracking import utils\n",
    "from dipy.tracking.local_tracking import LocalTracking\n",
    "from dipy.tracking.local_tracking import ParticleFilteringTracking\n",
    "from dipy.tracking.stopping_criterion import BinaryStoppingCriterion\n",
    "from dipy.tracking.stopping_criterion import ActStoppingCriterion\n",
    "from dipy.tracking.stopping_criterion import CmcStoppingCriterion\n",
    "\n",
    "from dipy.reconst.dti import fractional_anisotropy, TensorModel, quantize_evecs\n",
    "from dipy.reconst.shm import CsaOdfModel\n",
    "from dipy.reconst.csdeconv import ConstrainedSphericalDeconvModel, recursive_response\n",
    "from dipy.reconst.peak_direction_getter import EuDXDirectionGetter\n",
    "\n",
    "from dipy.data import get_sphere\n",
    "from dipy.direction import peaks_from_model, ProbabilisticDirectionGetter\n",
    "from dipy.segment.mask import median_otsu\n",
    "\n",
    "\n",
    "path = '/Users/wilsontang/Desktop/ndmg_outputs/sub_0025841_ses_1/sub-0025841/ses-1/dwi/fiber/streamlines.trk'"
   ]
  },
  {
   "cell_type": "code",
   "execution_count": null,
   "metadata": {},
   "outputs": [],
   "source": [
    "path = '/Users/wilsontang/Desktop/ndmg_outputs/sub_0025841_ses_1/sub-0025841/ses-1/dwi/fiber/streamlines.trk'\n",
    "reference_anatomy = nib.load\n",
    "load_tractogram()"
   ]
  },
  {
   "cell_type": "markdown",
   "metadata": {},
   "source": [
    "## Load Gtab Data to recreate models "
   ]
  },
  {
   "cell_type": "code",
   "execution_count": 6,
   "metadata": {},
   "outputs": [
    {
     "ename": "AttributeError",
     "evalue": "'numpy.ndarray' object has no attribute 'b0s_mask'",
     "output_type": "error",
     "traceback": [
      "\u001b[0;31m---------------------------------------------------------------------------\u001b[0m",
      "\u001b[0;31mAttributeError\u001b[0m                            Traceback (most recent call last)",
      "\u001b[0;32m<ipython-input-6-9dd497da13ea>\u001b[0m in \u001b[0;36m<module>\u001b[0;34m\u001b[0m\n\u001b[1;32m      1\u001b[0m \u001b[0mgtab\u001b[0m \u001b[0;34m=\u001b[0m \u001b[0mnp\u001b[0m\u001b[0;34m.\u001b[0m\u001b[0mloadtxt\u001b[0m\u001b[0;34m(\u001b[0m\u001b[0;34m'/Users/wilsontang/Desktop/gtab_gtab'\u001b[0m\u001b[0;34m)\u001b[0m\u001b[0;34m\u001b[0m\u001b[0;34m\u001b[0m\u001b[0m\n\u001b[0;32m----> 2\u001b[0;31m \u001b[0mmod\u001b[0m \u001b[0;34m=\u001b[0m \u001b[0mCsaOdfModel\u001b[0m\u001b[0;34m(\u001b[0m\u001b[0mgtab\u001b[0m\u001b[0;34m,\u001b[0m \u001b[0msh_order\u001b[0m\u001b[0;34m=\u001b[0m\u001b[0;36m6\u001b[0m\u001b[0;34m)\u001b[0m\u001b[0;34m\u001b[0m\u001b[0;34m\u001b[0m\u001b[0m\n\u001b[0m",
      "\u001b[0;32m~/anaconda3/lib/python3.6/site-packages/dipy/reconst/shm.py\u001b[0m in \u001b[0;36m__init__\u001b[0;34m(self, gtab, sh_order, smooth, min_signal, assume_normed)\u001b[0m\n\u001b[1;32m    532\u001b[0m         \"\"\"\n\u001b[1;32m    533\u001b[0m         \u001b[0mSphHarmModel\u001b[0m\u001b[0;34m.\u001b[0m\u001b[0m__init__\u001b[0m\u001b[0;34m(\u001b[0m\u001b[0mself\u001b[0m\u001b[0;34m,\u001b[0m \u001b[0mgtab\u001b[0m\u001b[0;34m)\u001b[0m\u001b[0;34m\u001b[0m\u001b[0;34m\u001b[0m\u001b[0m\n\u001b[0;32m--> 534\u001b[0;31m         \u001b[0mself\u001b[0m\u001b[0;34m.\u001b[0m\u001b[0m_where_b0s\u001b[0m \u001b[0;34m=\u001b[0m \u001b[0mlazy_index\u001b[0m\u001b[0;34m(\u001b[0m\u001b[0mgtab\u001b[0m\u001b[0;34m.\u001b[0m\u001b[0mb0s_mask\u001b[0m\u001b[0;34m)\u001b[0m\u001b[0;34m\u001b[0m\u001b[0;34m\u001b[0m\u001b[0m\n\u001b[0m\u001b[1;32m    535\u001b[0m         \u001b[0mself\u001b[0m\u001b[0;34m.\u001b[0m\u001b[0m_where_dwi\u001b[0m \u001b[0;34m=\u001b[0m \u001b[0mlazy_index\u001b[0m\u001b[0;34m(\u001b[0m\u001b[0;34m~\u001b[0m\u001b[0mgtab\u001b[0m\u001b[0;34m.\u001b[0m\u001b[0mb0s_mask\u001b[0m\u001b[0;34m)\u001b[0m\u001b[0;34m\u001b[0m\u001b[0;34m\u001b[0m\u001b[0m\n\u001b[1;32m    536\u001b[0m         \u001b[0mself\u001b[0m\u001b[0;34m.\u001b[0m\u001b[0massume_normed\u001b[0m \u001b[0;34m=\u001b[0m \u001b[0massume_normed\u001b[0m\u001b[0;34m\u001b[0m\u001b[0;34m\u001b[0m\u001b[0m\n",
      "\u001b[0;31mAttributeError\u001b[0m: 'numpy.ndarray' object has no attribute 'b0s_mask'"
     ]
    }
   ],
   "source": [
    "gtab = np.loadtxt('/Users/wilsontang/Desktop/gtab_gtab')\n",
    "mod = CsaOdfModel(gtab, sh_order=6)\n"
   ]
  },
  {
   "cell_type": "code",
   "execution_count": null,
   "metadata": {},
   "outputs": [],
   "source": []
  }
 ],
 "metadata": {
  "kernelspec": {
   "display_name": "Python 3",
   "language": "python",
   "name": "python3"
  },
  "language_info": {
   "codemirror_mode": {
    "name": "ipython",
    "version": 3
   },
   "file_extension": ".py",
   "mimetype": "text/x-python",
   "name": "python",
   "nbconvert_exporter": "python",
   "pygments_lexer": "ipython3",
   "version": "3.6.8"
  }
 },
 "nbformat": 4,
 "nbformat_minor": 2
}
